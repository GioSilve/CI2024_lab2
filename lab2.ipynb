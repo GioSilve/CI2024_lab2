{
 "cells": [
  {
   "cell_type": "code",
   "execution_count": 37,
   "metadata": {},
   "outputs": [],
   "source": [
    "import pandas as pd\n",
    "import logging\n",
    "import numpy as np\n",
    "from icecream import ic\n",
    "from itertools import combinations\n",
    "from geopy.distance import geodesic\n",
    "from dataclasses import dataclass\n",
    "import functools\n",
    "import random\n",
    "from tqdm import tqdm\n",
    "\n",
    "logging.basicConfig(level=logging.DEBUG)"
   ]
  },
  {
   "cell_type": "code",
   "execution_count": 38,
   "metadata": {},
   "outputs": [],
   "source": [
    "PATH = \"./cities/\"\n",
    "INSTANCE = \"russia.csv\""
   ]
  },
  {
   "cell_type": "code",
   "execution_count": 39,
   "metadata": {},
   "outputs": [],
   "source": [
    "CITIES = pd.read_csv(f\"{PATH}{INSTANCE}\", header=None, names=['name', 'lat', 'lon'])\n",
    "\n",
    "DIST_MATRIX = np.zeros((len(CITIES), len(CITIES)))\n",
    "for c1, c2 in combinations(CITIES.itertuples(), 2):\n",
    "    DIST_MATRIX[c1.Index, c2.Index] = DIST_MATRIX[c2.Index, c1.Index] = geodesic(\n",
    "        (c1.lat, c1.lon), (c2.lat, c2.lon)\n",
    "    ).km"
   ]
  },
  {
   "cell_type": "markdown",
   "metadata": {},
   "source": [
    "## Helper functions"
   ]
  },
  {
   "cell_type": "code",
   "execution_count": null,
   "metadata": {},
   "outputs": [],
   "source": [
    "def counter(fn):\n",
    "    \"\"\"Simple decorator for counting number of calls\"\"\"\n",
    "    @functools.wraps(fn)\n",
    "    def helper(*args, **kargs):\n",
    "        helper.calls += 1\n",
    "        return fn(*args, **kargs)\n",
    "    helper.calls = 0\n",
    "    return helper\n",
    "\n",
    "@counter\n",
    "def tsp_cost(tsp):\n",
    "    #ic(tsp[0], tsp[-1])\n",
    "    assert tsp[0] == tsp[-1]\n",
    "    assert set(tsp) == set(range(len(CITIES)))\n",
    "\n",
    "    tot_cost = 0\n",
    "    for c1, c2 in zip(tsp, tsp[1:]):\n",
    "        tot_cost += DIST_MATRIX[c1, c2]\n",
    "    return tot_cost\n",
    "\n",
    "def fitness(individual):\n",
    "    return  -float(tsp_cost(individual.genome))\n",
    "\n",
    "def parent_selection(population):\n",
    "    candidates = sorted(np.random.choice(population, 2), key=lambda e: e.fitness, reverse=True)\n",
    "    return candidates[0]\n",
    "        \n",
    "@dataclass\n",
    "class Individual:\n",
    "    genome: np.ndarray\n",
    "    fitness: float = None"
   ]
  },
  {
   "cell_type": "code",
   "execution_count": 41,
   "metadata": {},
   "outputs": [],
   "source": [
    "def greedy_tsp(city):\n",
    "    visited = np.full(len(CITIES), False)\n",
    "    dist = DIST_MATRIX.copy()\n",
    "    visited[city] = True\n",
    "    tsp = list()\n",
    "    tsp.append(int(city))\n",
    "    while not np.all(visited):\n",
    "        dist[:, city] = np.inf\n",
    "        closest = np.argmin(dist[city])\n",
    "        #logging.debug(f\"step: {CITIES.at[city,'name']} -> {CITIES.at[closest,'name']} ({DIST_MATRIX[city,closest]:.2f}km)\")\n",
    "        visited[closest] = True\n",
    "        city = closest\n",
    "        tsp.append(int(city))\n",
    "        #logging.debug(f\"step: {CITIES.at[tsp[-1],'name']} -> {CITIES.at[tsp[0],'name']} ({DIST_MATRIX[tsp[-1],tsp[0]]:.2f}km)\")\n",
    "    tsp.append(tsp[0])\n",
    "   # logging.info(f\"result: Found a path of {len(tsp)-1} steps, total length {tsp_cost(tsp):.2f}km\")\n",
    "    return tsp"
   ]
  },
  {
   "cell_type": "code",
   "execution_count": null,
   "metadata": {},
   "outputs": [],
   "source": [
    "# Partially Mapped Crossover\n",
    "def pmover(p1, p2):\n",
    "    i1 = np.random.randint(len(p1))\n",
    "    i2 = np.random.randint(len(p1))\n",
    "    while i1 == i2:\n",
    "        i2 = np.random.randint(len(p1))\n",
    "    #ic(i1, i2)\n",
    "    if i1 > i2:\n",
    "        i1, i2 = i2, i1\n",
    " \n",
    "    o1 = p1.copy()\n",
    "    o2 = p2.copy()\n",
    "    o1[i1:i2] = p2[i1:i2]\n",
    "    o2[i1:i2] = p1[i1:i2]\n",
    "\n",
    "    for i in range(0, i1):\n",
    "        while o1[i] in o1[i1:i2]:\n",
    "            o1[i] = p1[p2.index(o1[i])]\n",
    "        while o2[i] in o2[i1:i2]:\n",
    "            o2[i] = p2[p1.index(o2[i])]\n",
    "\n",
    "    for i in range(i2, len(o1)):\n",
    "        while o1[i] in o1[i1:i2]:\n",
    "            o1[i] = p1[p2.index(o1[i])]\n",
    "        while o2[i] in o2[i1:i2]:\n",
    "            o2[i] = p2[p1.index(o2[i])]\n",
    "    \n",
    "   # ic(p1,p2)\n",
    "   # ic(o1,o2)\n",
    "    return o1, o2\n"
   ]
  },
  {
   "cell_type": "code",
   "execution_count": null,
   "metadata": {},
   "outputs": [],
   "source": [
    "# Inversion Mutation\n",
    "def inv_mutation(individual):\n",
    "    mutated_genome = individual.genome[:-1]\n",
    "    i, j = sorted(np.random.randint(0, len(individual.genome), 2))\n",
    "    while i == j:\n",
    "        i, j = sorted(np.random.randint(0, len(individual.genome), 2))\n",
    "   # ic(i, j)\n",
    "    mutated_genome[i:j+1] = mutated_genome[i:j+1][::-1]\n",
    "    return mutated_genome\n",
    "    \n",
    "def generate_random_individuals(initial_individual):\n",
    "    new_genome = random.sample(initial_individual.genome[:-1], len(initial_individual.genome[:-1]))\n",
    "    new_genome.append(new_genome[0])\n",
    "    return Individual(new_genome)"
   ]
  },
  {
   "cell_type": "markdown",
   "metadata": {},
   "source": [
    "## Inversion mutation with partially mapped crossover"
   ]
  },
  {
   "cell_type": "code",
   "execution_count": null,
   "metadata": {},
   "outputs": [
    {
     "name": "stderr",
     "output_type": "stream",
     "text": [
      "ic| tsp_cost(initial_individual.genome): np.float64(43716.77908582314)\n",
      "ic| tsp_cost(population[0].genome): np.float64(43716.77908582314)\n",
      "100%|██████████| 10000/10000 [23:17<00:00,  7.16it/s] \n",
      "ic| -population[0].fitness: np.float64(34408.65365296137)\n",
      "    tsp_cost.calls: 1240752\n"
     ]
    },
    {
     "data": {
      "text/plain": [
       "(np.float64(34408.65365296137), 1240752)"
      ]
     },
     "execution_count": 45,
     "metadata": {},
     "output_type": "execute_result"
    }
   ],
   "source": [
    "POPULATION_SIZE = int(len(CITIES)*1.5)\n",
    "OFFSPRING_SIZE = int(POPULATION_SIZE*0.25)\n",
    "MAX_GENERATIONS = 10_000\n",
    "population = list()\n",
    "\n",
    "# generate initial individual using a greedy starting from a random city\n",
    "initial_individual = Individual(greedy_tsp(np.random.randint(len(CITIES))))\n",
    "\n",
    "# generate random initial population starting from the initial individual\n",
    "population = [generate_random_individuals(initial_individual) for _ in range(POPULATION_SIZE-1)]\n",
    "# add the initial individual\n",
    "population.append(initial_individual)\n",
    "\n",
    "population.sort(key=lambda i: tsp_cost(i.genome))\n",
    "# Display cost of best initial individual\n",
    "ic(tsp_cost(population[0].genome))\n",
    "\n",
    "for i in population:\n",
    "    i.fitness = -tsp_cost(i.genome)\n",
    "\n",
    "for g in tqdm(range(MAX_GENERATIONS)):\n",
    "    offspring = list()\n",
    "    for _ in range(OFFSPRING_SIZE):\n",
    "        #Selection of parents\n",
    "        p1 = parent_selection(population)\n",
    "        p2 = parent_selection(population)\n",
    "        \n",
    "        #Mutation of parents\n",
    "        inv_p1 = inv_mutation(p1)\n",
    "        inv_p1.append(inv_p1[0])\n",
    "        inv_p2 = inv_mutation(p2)\n",
    "        inv_p2.append(inv_p2[0])\n",
    "        \n",
    "        #Crossover of mutated parents\n",
    "        o1,o2 = pmover(inv_p1[:-1], inv_p2[:-1])\n",
    "\n",
    "        o1.append(o1[0])\n",
    "        o2.append(o2[0])\n",
    "\n",
    "        o1,o2 = Individual(o1), Individual(o2)\n",
    "\n",
    "        offspring.append(o1)\n",
    "        offspring.append(o2)\n",
    "\n",
    "    for i in offspring:\n",
    "        i.fitness = fitness(i)\n",
    "        # ic(i.genome)\n",
    "        # ic(i.fitness)\n",
    "\n",
    "    population.extend(offspring)\n",
    "    population.sort(key=lambda i: i.fitness, reverse=True)\n",
    "    population = population[:POPULATION_SIZE]\n",
    "\n",
    "\n",
    "\n",
    "for i in population:\n",
    "    # Add last one\n",
    "    i.genome = np.append(i.genome, i.genome[0])\n",
    "    i.fitness = -tsp_cost(i.genome)\n",
    "\n",
    "population.sort(key=lambda i: i.fitness, reverse=True)\n",
    "# Display cost of best individual after evolution\n",
    "ic(-population[0].fitness, tsp_cost.calls)"
   ]
  }
 ],
 "metadata": {
  "kernelspec": {
   "display_name": "poetry_venv",
   "language": "python",
   "name": "python3"
  },
  "language_info": {
   "codemirror_mode": {
    "name": "ipython",
    "version": 3
   },
   "file_extension": ".py",
   "mimetype": "text/x-python",
   "name": "python",
   "nbconvert_exporter": "python",
   "pygments_lexer": "ipython3",
   "version": "3.12.6"
  }
 },
 "nbformat": 4,
 "nbformat_minor": 2
}
